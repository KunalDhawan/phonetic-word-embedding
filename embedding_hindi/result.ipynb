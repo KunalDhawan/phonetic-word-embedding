{
 "metadata": {
  "language_info": {
   "codemirror_mode": {
    "name": "ipython",
    "version": 3
   },
   "file_extension": ".py",
   "mimetype": "text/x-python",
   "name": "python",
   "nbconvert_exporter": "python",
   "pygments_lexer": "ipython3",
   "version": "3.8.3-final"
  },
  "orig_nbformat": 2,
  "kernelspec": {
   "name": "python_defaultSpec_1601234304757",
   "display_name": "Python 3.8.3 64-bit ('py38': conda)"
  }
 },
 "nbformat": 4,
 "nbformat_minor": 2,
 "cells": [
  {
   "cell_type": "code",
   "execution_count": null,
   "metadata": {
    "tags": []
   },
   "outputs": [],
   "source": [
    "!python -V\n",
    "import sys\n",
    "import numpy as np\n",
    "from sklearn.preprocessing import normalize"
   ]
  },
  {
   "cell_type": "code",
   "execution_count": null,
   "metadata": {},
   "outputs": [],
   "source": [
    "class Dictionary:\n",
    "    def __init__(self, filepath, encoding=\"utf-8\"):\n",
    "        self.words = list()\n",
    "        self.lookup = dict()\n",
    "        dictionary = list()\n",
    "\n",
    "        print(\"loading...\", file=sys.stderr)\n",
    "        for i, line in enumerate(open(filepath, encoding=encoding)):\n",
    "            line = line.strip()\n",
    "            word, vec_s = line.split(\"  \")\n",
    "            vec = [float(n) for n in vec_s.split()]\n",
    "            self.lookup[word] = i\n",
    "            dictionary.append(vec)\n",
    "            self.words.append(word)\n",
    "        print(\"done.\", file=sys.stderr)\n",
    "        self.dictionary = np.array(dictionary)\n",
    "        print('minVal', np.min(self.dictionary))\n",
    "        print('maxVal', np.max(self.dictionary))\n",
    "        self.norms = normalize(self.dictionary, axis=1)\n",
    "\n",
    "    def vec(self, word):\n",
    "        return self.dictionary[self.lookup[word.strip().upper()], :]\n",
    "\n",
    "    def word(self, vec, n=None):\n",
    "        v = vec / np.linalg.norm(vec)\n",
    "        dots = np.dot(self.norms, v)\n",
    "        if n is None:\n",
    "            return self.words[np.argmax(dots)]\n",
    "        return [(self.words[x], dots[x]) for x in np.argsort(-dots)[:n]]\n",
    "        # return [self.words[x] for x in np.argsort(-dots)[:n]]"
   ]
  },
  {
   "cell_type": "code",
   "execution_count": null,
   "metadata": {
    "tags": []
   },
   "outputs": [],
   "source": [
    "d = Dictionary(\"simvecs_hindi\")"
   ]
  },
  {
   "cell_type": "code",
   "execution_count": null,
   "metadata": {
    "tags": []
   },
   "outputs": [],
   "source": [
    "v = d.vec('हल्दी')\n",
    "print(v.shape, d.word(v, 10))\n",
    "print(d.word(d.vec('व्यापार'), 10))"
   ]
  },
  {
   "cell_type": "code",
   "execution_count": null,
   "metadata": {
    "tags": []
   },
   "outputs": [],
   "source": [
    "print(d.word(d.vec('ज्ञान') - d.vec('काल') + d.vec('अकाल'), 5))\n",
    "print(d.word(d.vec('मातृभूमि') - d.vec('भूमि') + d.vec('भाषा'), 5))\n",
    "print(d.word(d.vec('परम्परा') - d.vec('समस्या') + d.vec('समस्याओं'), 5))"
   ]
  },
  {
   "cell_type": "code",
   "execution_count": null,
   "metadata": {},
   "outputs": [],
   "source": []
  }
 ]
}