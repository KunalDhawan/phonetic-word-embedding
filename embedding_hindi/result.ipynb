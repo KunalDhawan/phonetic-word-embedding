{
 "metadata": {
  "language_info": {
   "codemirror_mode": {
    "name": "ipython",
    "version": 3
   },
   "file_extension": ".py",
   "mimetype": "text/x-python",
   "name": "python",
   "nbconvert_exporter": "python",
   "pygments_lexer": "ipython3",
   "version": "3.8.3-final"
  },
  "orig_nbformat": 2,
  "kernelspec": {
   "name": "Python 3.8.3 64-bit",
   "display_name": "Python 3.8.3 64-bit",
   "metadata": {
    "interpreter": {
     "hash": "5c19739c2174bb9814e4313bc4c84611ccef5743356cb918fae8c9748725cc72"
    }
   }
  }
 },
 "nbformat": 4,
 "nbformat_minor": 2,
 "cells": [
  {
   "cell_type": "code",
   "execution_count": 1,
   "metadata": {
    "tags": []
   },
   "outputs": [
    {
     "output_type": "stream",
     "name": "stdout",
     "text": [
      "Python 3.8.3\n"
     ]
    }
   ],
   "source": [
    "!python -V\n",
    "import os\n",
    "import sys\n",
    "sys.path.insert(0, os.path.join('..', 'src'))\n",
    "from embedding import Dictionary"
   ]
  },
  {
   "cell_type": "code",
   "execution_count": 2,
   "metadata": {
    "tags": []
   },
   "outputs": [
    {
     "output_type": "stream",
     "name": "stderr",
     "text": [
      "loading...\n",
      "min Norm -0.7701859911476411\n",
      "max Norm 0.6201056799956796\n",
      "Total words: 22795\n"
     ]
    }
   ],
   "source": [
    "d = Dictionary('simvecs_hindi', 'utf-8')"
   ]
  },
  {
   "cell_type": "code",
   "execution_count": 3,
   "metadata": {
    "tags": []
   },
   "outputs": [
    {
     "output_type": "stream",
     "name": "stdout",
     "text": [
      "(50,) [('हल्दी', 0.9999999999999999), ('हरदोई', 0.864147195756624), ('हल्की', 0.8592362512351033), ('हिन्दी', 0.8511945791516943), ('हुबली', 0.8488763328979367), ('हुगली', 0.8466168933909134), ('देहली', 0.8411125876731113), ('हलकी', 0.8360269536910826), ('हथेली', 0.832251690334459), ('हैकनी', 0.8286002072975694)]\n[('व्यापार', 1.0), ('व्यवहार', 0.9211017869229596), ('व्यापर', 0.9143979460422695), ('व्यभिचार', 0.9010795598348318), ('वर्गाकार', 0.880467625117663), ('व्याघ्र', 0.8804012275636566), ('वफादार', 0.8797792011421761), ('व्याकरण', 0.8764203180552875), ('वफ़ादार', 0.8728311586126827), ('विद्यालंकार', 0.8679532114505281)]\n"
     ]
    }
   ],
   "source": [
    "v = d.vec('हल्दी')\n",
    "print(v.shape, d.word(v, 10))\n",
    "print(d.word(d.vec('व्यापार'), 10))"
   ]
  },
  {
   "cell_type": "code",
   "execution_count": 4,
   "metadata": {
    "tags": []
   },
   "outputs": [
    {
     "output_type": "stream",
     "name": "stdout",
     "text": [
      "[('अज्ञान', 0.8914525317531736), ('ज्ञान', 0.8509561339360339), ('अंजान', 0.8483658726906657), ('अनजान', 0.8420923084627195), ('अभिज्ञान', 0.8406935323174427)]\n[('मातृभाषा', 0.9134018341190353), ('बांसवाड़ा', 0.824454691137687), ('आँकड़ा', 0.8219597205327616), ('आत्मकथा', 0.8183960093500128), ('महासभा', 0.8172938899067422)]\n[('परम्पराओं', 0.9647648516171807), ('परंपराओं', 0.9423575805009173), ('परमाणुओं', 0.9046916060488238), ('परंपराएं', 0.8834081767802076), ('पुराणों', 0.8726425307832222)]\n"
     ]
    }
   ],
   "source": [
    "print(d.word(d.vec('ज्ञान') - d.vec('काल') + d.vec('अकाल'), 5))\n",
    "print(d.word(d.vec('मातृभूमि') - d.vec('भूमि') + d.vec('भाषा'), 5))\n",
    "print(d.word(d.vec('परम्परा') - d.vec('समस्या') + d.vec('समस्याओं'), 5))"
   ]
  }
 ]
}