{
 "metadata": {
  "language_info": {
   "codemirror_mode": {
    "name": "ipython",
    "version": 3
   },
   "file_extension": ".py",
   "mimetype": "text/x-python",
   "name": "python",
   "nbconvert_exporter": "python",
   "pygments_lexer": "ipython3",
   "version": "3.8.2-final"
  },
  "orig_nbformat": 2,
  "kernelspec": {
   "name": "python3",
   "display_name": "Python 3.8.2 64-bit ('py38': conda)",
   "metadata": {
    "interpreter": {
     "hash": "2d76a938c981de1713584c398436925a46ce152d26d3ea2af97ee7c96e32c5a8"
    }
   }
  }
 },
 "nbformat": 4,
 "nbformat_minor": 2,
 "cells": [
  {
   "cell_type": "code",
   "execution_count": null,
   "metadata": {
    "tags": []
   },
   "outputs": [],
   "source": [
    "!python -V\n",
    "import os\n",
    "import sys\n",
    "import numpy as np\n",
    "import pandas as pd\n",
    "import matplotlib.pyplot as plt\n",
    "import seaborn as sns\n",
    "from embedding import Dictionary"
   ]
  },
  {
   "cell_type": "code",
   "execution_count": null,
   "metadata": {
    "tags": []
   },
   "outputs": [],
   "source": [
    "pss = Dictionary(os.path.join('..', 'data', 'cmudict-0.7b-simvecs'))\n",
    "our = Dictionary(os.path.join('..', 'embedding_english', 'simvecs'))\n",
    "puns = pd.read_csv(os.path.join('..', 'res', 'heterographic_pun_words.txt'), header=None, delimiter=r\"\\s+\")"
   ]
  },
  {
   "cell_type": "code",
   "execution_count": null,
   "metadata": {
    "tags": []
   },
   "outputs": [],
   "source": [
    "print('Pun words', len(puns))\n",
    "puns['PSSVec'] = puns.apply(lambda row: pss.score(row[0], row[1]), axis=1)\n",
    "puns['Ours'] = puns.apply(lambda row: our.score(row[0], row[1]), axis=1)\n",
    "fig = plt.figure(figsize=(10,5), facecolor='w')\n",
    "sns.distplot(puns['PSSVec'], kde=True, hist=False).set_title('Heterographic Pun Dataset')\n",
    "sns.distplot(puns['Ours'], kde=True, hist=False).set_xlabel('Cosine Similarity')\n",
    "fig.legend(labels=['PSSVec', 'Ours'], loc='upper left', bbox_to_anchor=(0.15,0.85))"
   ]
  },
  {
   "cell_type": "code",
   "execution_count": null,
   "metadata": {
    "tags": []
   },
   "outputs": [],
   "source": [
    "puns['diff'] = puns['Ours'] - puns['PSSVec']\n",
    "# puns['diff'] = puns['PSSVec'] - puns['Ours']\n",
    "print(puns.sort_values(by=['diff'], ascending=False))"
   ]
  },
  {
   "cell_type": "code",
   "execution_count": null,
   "metadata": {
    "tags": []
   },
   "outputs": [],
   "source": [
    "from dictionary import Dictionary\n",
    "\n",
    "d = Dictionary(os.path.join('..', 'data', 'cmudict-0.7b'), 'latin1')\n",
    "def same(w1, w2):\n",
    "    return d.phones(w1.upper()) == d.phones(w2.upper())\n",
    "\n",
    "sns.set(font_scale=1.4)\n",
    "sns.set_style(\"whitegrid\")\n",
    "puns = puns[puns.apply(lambda row: not same(row[0], row[1]), axis=1)]\n",
    "print('Pun words after removing same phoneme words', len(puns))\n",
    "fig = plt.figure(figsize=(12,5), facecolor='w')\n",
    "sns.distplot(puns['PSSVec'], kde=True, hist=False).set_title('Distribution of similar sounding words with mean')\n",
    "sns.distplot(puns['Ours'], kde=True, hist=False).set_xlabel('Cosine Similarity')\n",
    "fig.legend(labels=['PSSVec', 'Ours'], loc='upper left', bbox_to_anchor=(0.15,0.85))\n",
    "plt.axvline(puns['PSSVec'].mean(), color=sns.color_palette()[0], linestyle='--')\n",
    "plt.axvline(puns['Ours'].mean(), color=sns.color_palette()[1], linestyle='--')\n",
    "# plt.text(best_penalty, 0.5, ' max of average', rotation=0, fontsize=12)"
   ]
  },
  {
   "cell_type": "code",
   "execution_count": null,
   "metadata": {},
   "outputs": [],
   "source": []
  }
 ]
}