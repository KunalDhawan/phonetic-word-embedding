{
 "metadata": {
  "language_info": {
   "codemirror_mode": {
    "name": "ipython",
    "version": 3
   },
   "file_extension": ".py",
   "mimetype": "text/x-python",
   "name": "python",
   "nbconvert_exporter": "python",
   "pygments_lexer": "ipython3",
   "version": "3.8.3-final"
  },
  "orig_nbformat": 2,
  "kernelspec": {
   "name": "Python 3.8.3 64-bit ('py38': conda)",
   "display_name": "Python 3.8.3 64-bit ('py38': conda)",
   "metadata": {
    "interpreter": {
     "hash": "5c19739c2174bb9814e4313bc4c84611ccef5743356cb918fae8c9748725cc72"
    }
   }
  }
 },
 "nbformat": 4,
 "nbformat_minor": 2,
 "cells": [
  {
   "cell_type": "code",
   "execution_count": null,
   "metadata": {
    "tags": []
   },
   "outputs": [],
   "source": [
    "!python -V\n",
    "import os\n",
    "import sys\n",
    "import numpy as np\n",
    "import pandas as pd\n",
    "import matplotlib.pyplot as plt\n",
    "import seaborn as sns\n",
    "sys.path.insert(0, os.path.join('..', 'embedding_english'))\n",
    "from dataset import Dictionary"
   ]
  },
  {
   "cell_type": "code",
   "execution_count": null,
   "metadata": {
    "tags": []
   },
   "outputs": [],
   "source": [
    "pss = Dictionary(os.path.join('..', 'data', 'cmudict-0.7b-simvecs'))\n",
    "our = Dictionary(os.path.join('..', 'embedding_english', 'simvecs'))\n",
    "puns = pd.read_csv(os.path.join('..', 'res', 'heterographic_pun_words.txt'), header=None, delimiter=r\"\\s+\")"
   ]
  },
  {
   "cell_type": "code",
   "execution_count": null,
   "metadata": {
    "tags": []
   },
   "outputs": [],
   "source": [
    "print('Pun words', len(puns))\n",
    "puns['PSSVec'] = puns.apply(lambda row: pss.score(row[0], row[1]), axis=1)\n",
    "puns['Ours'] = puns.apply(lambda row: our.score(row[0], row[1]), axis=1)\n",
    "fig = plt.figure(figsize=(10,5), facecolor='w')\n",
    "sns.distplot(puns['PSSVec'], kde=True, hist=False).set_title('Heterographic Pun Dataset')\n",
    "sns.distplot(puns['Ours'], kde=True, hist=False).set_xlabel('Cosine Similarity')\n",
    "fig.legend(labels=['PSSVec', 'Ours'])"
   ]
  },
  {
   "cell_type": "code",
   "execution_count": null,
   "metadata": {
    "tags": []
   },
   "outputs": [],
   "source": [
    "puns['diff'] = puns['Ours'] - puns['PSSVec']\n",
    "# puns['diff'] = puns['PSSVec'] - puns['Ours']\n",
    "print(puns.sort_values(by=['diff'], ascending=False))"
   ]
  }
 ]
}