{
 "metadata": {
  "language_info": {
   "codemirror_mode": {
    "name": "ipython",
    "version": 3
   },
   "file_extension": ".py",
   "mimetype": "text/x-python",
   "name": "python",
   "nbconvert_exporter": "python",
   "pygments_lexer": "ipython3",
   "version": "3.8.3-final"
  },
  "orig_nbformat": 2,
  "kernelspec": {
   "name": "Python 3.8.3 64-bit",
   "display_name": "Python 3.8.3 64-bit",
   "metadata": {
    "interpreter": {
     "hash": "5c19739c2174bb9814e4313bc4c84611ccef5743356cb918fae8c9748725cc72"
    }
   }
  }
 },
 "nbformat": 4,
 "nbformat_minor": 2,
 "cells": [
  {
   "cell_type": "code",
   "execution_count": 1,
   "metadata": {
    "tags": []
   },
   "outputs": [
    {
     "output_type": "stream",
     "name": "stdout",
     "text": [
      "Python 3.8.3\n"
     ]
    }
   ],
   "source": [
    "!python -V\n",
    "import sys\n",
    "sys.path.insert(0, os.path.join('..', 'src'))\n",
    "from embedding import Dictionary"
   ]
  },
  {
   "cell_type": "code",
   "execution_count": 2,
   "metadata": {
    "tags": []
   },
   "outputs": [
    {
     "output_type": "stream",
     "name": "stderr",
     "text": [
      "loading...\n",
      "min Norm -0.6210165606884935\n",
      "max Norm 0.6102571871129993\n",
      "Total words: 133860\n"
     ]
    }
   ],
   "source": [
    "d = Dictionary(\"simvecs\")"
   ]
  },
  {
   "cell_type": "code",
   "execution_count": 3,
   "metadata": {
    "tags": []
   },
   "outputs": [
    {
     "output_type": "stream",
     "name": "stdout",
     "text": [
      "(50,) LOOK\n[('TWO', 1.0000000000000002), ('TUE', 0.9983326893660539), ('TU', 0.9982340708709736), ('TEW', 0.9979064808393452), ('TOO', 0.9977740077253083), ('THUY', 0.9974699404340962), ('TO', 0.9973053406733928), ('TUTU', 0.9776248355261037), ('TREU', 0.9715127874856857), ('TRUE', 0.9709780187976009)]\n"
     ]
    }
   ],
   "source": [
    "v = d.vec('look')\n",
    "print(v.shape, d.word(v))\n",
    "print(d.word(d.vec('two'), 10))"
   ]
  },
  {
   "cell_type": "code",
   "execution_count": 4,
   "metadata": {
    "tags": []
   },
   "outputs": [
    {
     "output_type": "stream",
     "name": "stdout",
     "text": [
      "[('TURNING', 0.9793758767291696), ('TERMING', 0.9323801622938125), ('CHURNING', 0.8997649785298691), ('TWIRLING', 0.8910618371075985), ('TOWERING', 0.8901059772709726)]\n",
      "[('JUMPED', 0.9488281100764807), ('DUMPED', 0.8792958295473174), ('JUMP', 0.8662129216397209), ('JUMPSUIT', 0.8385106402802858), ('JEMMOTT', 0.8171843522911426)]\n",
      "[('UNCOMFORTABLE', 0.9154567768829313), ('UNWORKABLE', 0.8917171894794257), ('UNGOVERNABLE', 0.887317599246929), ('UNFORGETTABLE', 0.8847351680369087), ('UNFLAPPABLE', 0.8698138608526698)]\n",
      "[('NON-CONTRACT', 0.896416399901073), ('NONCONTRACT', 0.8927973416634298), ('CONTRACT', 0.8423575801788276), ('TRENTE-ET-QUARANTE', 0.7957182564086371), ('CONTACT', 0.7934639023755785)]\n"
     ]
    }
   ],
   "source": [
    "print(d.word(d.vec('TURN') + d.vec('BURNING') - d.vec('BURN'), 5))\n",
    "print(d.word(d.vec('JUMP') + d.vec('HELPED') - d.vec('HELP'), 5))\n",
    "print(d.word(d.vec('COMFORTABLE') + d.vec('UNCONSCIOUS') - d.vec('CONSCIOUS'), 5))\n",
    "print(d.word(d.vec('CONTRACT') + d.vec('NON-FINANCIAL') - d.vec('FINANCIAL'), 5))"
   ]
  },
  {
   "cell_type": "code",
   "execution_count": null,
   "metadata": {},
   "outputs": [],
   "source": []
  }
 ]
}