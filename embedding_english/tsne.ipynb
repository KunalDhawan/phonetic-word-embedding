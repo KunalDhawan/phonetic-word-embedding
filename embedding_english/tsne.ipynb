{
 "cells": [
  {
   "cell_type": "code",
   "execution_count": null,
   "metadata": {
    "tags": []
   },
   "outputs": [],
   "source": [
    "! python -V\n",
    "import os\n",
    "import sys\n",
    "sys.path.insert(0, os.path.join('..', 'src'))\n",
    "from embedding import Dictionary\n",
    "import numpy as np\n",
    "from sklearn.manifold import TSNE\n",
    "import matplotlib.pyplot as plt\n",
    "import matplotlib.cm as cm"
   ]
  },
  {
   "cell_type": "code",
   "execution_count": null,
   "metadata": {
    "tags": []
   },
   "outputs": [],
   "source": [
    "d = Dictionary(\"simvecs\")\n",
    "words = ['HERE','HEAR','LAIR','LAYER','SHARE','THEIR','THERE','TWO','TO','TOO','BUY','BY','BYE','DUE','DEW','DO','FLOWER','FLOUR','ATE','EIGHT','WEIGHT','WAIT']\n",
    "embeddings = [d.vec(word) for word in words]"
   ]
  },
  {
   "cell_type": "code",
   "execution_count": null,
   "metadata": {},
   "outputs": [],
   "source": [
    "tsne_model = TSNE(perplexity=15, n_components=2, init='pca', n_iter=3500, random_state=32)\n",
    "embeddings_TSNE= np.array(tsne_model.fit_transform(embeddings))"
   ]
  },
  {
   "cell_type": "code",
   "execution_count": null,
   "metadata": {
    "tags": []
   },
   "outputs": [],
   "source": [
    "plt.rcParams.update({'font.size': 12})\n",
    "def tsne_plot_similar_words(labels, embedding_clusters, word_clusters, filename=None):\n",
    "    fig = plt.figure(figsize=(16, 8))\n",
    "    fig.patch.set_facecolor('w')\n",
    "    colors = cm.rainbow(np.linspace(0, 1, len(labels)))\n",
    "    for label, embeddings, words, color in zip(labels, embedding_clusters, word_clusters, colors):\n",
    "        x = embeddings[0]\n",
    "        y = embeddings[1]\n",
    "        plt.scatter(x, y, c=color.reshape(1,-1), alpha=1, label=label, s=64)\n",
    "        plt.annotate(label, alpha=1, xy=(x, y), xytext=(5, 4),textcoords='offset points', ha='right', va='bottom', size=12)\n",
    "    #plt.legend(loc=4)\n",
    "    # plt.title(title)\n",
    "    plt.grid(True)\n",
    "    if filename:\n",
    "        plt.savefig(filename, format='png', dpi=150, bbox_inches='tight')\n",
    "    plt.show()\n",
    "\n",
    "tsne_plot_similar_words(words, embeddings_TSNE, words) #, os.path.join('..', 'docs', 'img', '05_tsne_english.png'))"
   ]
  },
  {
   "cell_type": "code",
   "execution_count": null,
   "metadata": {},
   "outputs": [],
   "source": []
  }
 ],
 "metadata": {
  "kernelspec": {
   "name": "python3",
   "display_name": "Python 3.8.2 64-bit ('py38': conda)",
   "metadata": {
    "interpreter": {
     "hash": "2d76a938c981de1713584c398436925a46ce152d26d3ea2af97ee7c96e32c5a8"
    }
   }
  },
  "language_info": {
   "codemirror_mode": {
    "name": "ipython",
    "version": 3
   },
   "file_extension": ".py",
   "mimetype": "text/x-python",
   "name": "python",
   "nbconvert_exporter": "python",
   "pygments_lexer": "ipython3",
   "version": "3.8.2-final"
  }
 },
 "nbformat": 4,
 "nbformat_minor": 4
}